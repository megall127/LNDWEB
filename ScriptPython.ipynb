{
  "cells": [
    {
      "cell_type": "markdown",
      "metadata": {
        "id": "view-in-github",
        "colab_type": "text"
      },
      "source": [
        "<a href=\"https://colab.research.google.com/github/megall127/LNDWEB/blob/master/ScriptPython.ipynb\" target=\"_parent\"><img src=\"https://colab.research.google.com/assets/colab-badge.svg\" alt=\"Open In Colab\"/></a>"
      ]
    },
    {
      "cell_type": "markdown",
      "metadata": {
        "id": "AbwOEySpSnF-"
      },
      "source": [
        "# <font color = black/>Operadores\n",
        "\n",
        "\n",
        "\n",
        "Clique duas vezes no título para fazer comentários\n"
      ]
    },
    {
      "cell_type": "code",
      "execution_count": null,
      "metadata": {
        "colab": {
          "base_uri": "https://localhost:8080/",
          "height": 53
        },
        "id": "4HmsaXEGStfl",
        "outputId": "00212eb0-8eb3-4802-8c5d-6229736f14aa"
      },
      "outputs": [
        {
          "name": "stdout",
          "output_type": "stream",
          "text": [
            "Hello World!\n"
          ]
        },
        {
          "data": {
            "application/vnd.google.colaboratory.intrinsic+json": {
              "type": "string"
            },
            "text/plain": [
              "' \\nTambém posso fazer comentários usando aspas simples triplas.\\n'"
            ]
          },
          "execution_count": 4,
          "metadata": {},
          "output_type": "execute_result"
        }
      ],
      "source": [
        "print('Hello World!')\n",
        "#Posso fazer comentários usando hashtag(cerquilha).\n",
        "'''\n",
        "Também posso fazer comentários usando aspas simples triplas.\n",
        "'''\n",
        "\n",
        "\n"
      ]
    },
    {
      "cell_type": "markdown",
      "metadata": {
        "id": "yLwvl3FHPROw"
      },
      "source": [
        "Função que interage com o usuário é chama"
      ]
    },
    {
      "cell_type": "code",
      "execution_count": null,
      "metadata": {
        "id": "vCdt2tqFPQTH"
      },
      "outputs": [],
      "source": []
    },
    {
      "cell_type": "markdown",
      "metadata": {
        "id": "m5DTh96YYOvJ"
      },
      "source": [
        "## Operadores Matemáticos\n",
        "\n",
        "\"+\": Adição\n",
        "\n",
        "\"-\": Subtração\n",
        "\n",
        "\"*\": Multiplicação\n",
        "\n",
        "\"/\": Divisão\n",
        "\n",
        "\"%\": Módulo (resto da divisão)\n",
        "\n",
        "\"//\": Divisão inteira\n",
        "\n",
        "\"**\": Exponenciação (potenciação)\n",
        "\n",
        "Para fazer raíz quadrada, devo fazer uma importação \"import math\".\n",
        "\n",
        "Para calcular distâncias no plano em python:\n",
        "\n",
        "$d = \\sqrt{(x_2 - x_1)^2 + (y_2 - y_1)^2}$"
      ]
    },
    {
      "cell_type": "code",
      "execution_count": null,
      "metadata": {
        "colab": {
          "base_uri": "https://localhost:8080/"
        },
        "id": "dpWqFnIvQm6g",
        "outputId": "f0a26e7b-0246-4906-de4c-edf9a195bfb4"
      },
      "outputs": [
        {
          "name": "stdout",
          "output_type": "stream",
          "text": [
            "Insira a coordenada x1 para o ponto 1: 2\n",
            "Insira a coordenada y1 para o ponto 1: 6\n",
            "Insira a coordenada x2 para o ponto 2: 4\n",
            "Insira a coordenada y2 para o ponto 2: 9\n",
            "A distância entre P1 (2.0, 6.0) e o ponto P2 (4.0, 9.0) é: 3.605551275463989. \n"
          ]
        }
      ],
      "source": [
        "import math\n",
        "ponto_x1 = float(input(\"Insira a coordenada x1 para o ponto 1: \"))\n",
        "ponto_y1 = float(input(\"Insira a coordenada y1 para o ponto 1: \"))\n",
        "ponto_x2 = float(input(\"Insira a coordenada x2 para o ponto 2: \"))\n",
        "ponto_y2 = float(input(\"Insira a coordenada y2 para o ponto 2: \"))\n",
        "distancia = math.sqrt((ponto_x2 - ponto_x1)**2 + (ponto_y2 - ponto_y1)**2)\n",
        "print(\"A distância entre P1 (\" + str(ponto_x1) + \", \" + str(ponto_y1) + \") e o ponto P2 (\" + str(ponto_x2) + \", \" + str(ponto_y2) + \") é: \" + str(distancia) +\". \")"
      ]
    },
    {
      "cell_type": "markdown",
      "metadata": {
        "id": "KHvPr_xkHHX0"
      },
      "source": [
        "## Operadores de Atribuição\n",
        "\n",
        "<font color = red> Obs: O operador \"=\" é usado para atribuir valores a variáveis.\n",
        "O operador \"==\" é usado para verificar a igualdade entre dois valores.\n",
        "Uma alternativa para o uso do == é o \"is\" ou \"is not\"\n",
        "\n",
        "Claro, aqui estão os operadores de atribuição em Python:\n",
        "\n",
        "\"=\": Atribuição simples\n",
        "\n",
        "\n",
        "\"+=\": Adição e atribuição\n",
        "\n",
        "\"-=\": Subtração e atribuição\n",
        "\n",
        "\"*=\": Multiplicação e atribuição\n",
        "\n",
        "\"/=\": Divisão e atribuição\n",
        "\n",
        "\"%=\": Módulo e atribuição\n",
        "\n",
        "\"//=\": Divisão inteira e atribuição\n",
        "\n",
        "\"**=\": Exponenciação e atribuição\n",
        "\n"
      ]
    },
    {
      "cell_type": "markdown",
      "metadata": {
        "id": "BQpUxiYYLks8"
      },
      "source": [
        "## Operadores de Comparação\n",
        "\n",
        "\"==\": Igual a\n",
        "\n",
        "\"!=\": Diferente de\n",
        "\n",
        "\">\": Maior que\n",
        "\n",
        "\"<\": Menor que\n",
        "\n",
        "\">=\": Maior ou igual a\n",
        "\n",
        "\"<=\": Menor ou igual a"
      ]
    },
    {
      "cell_type": "markdown",
      "metadata": {
        "id": "VX30_GeYLbU8"
      },
      "source": [
        "## Operadores Lógicos\n",
        "\n",
        "\"and\": Retorna True se ambas as afirmações forem verdadeiras.\n",
        "\n",
        "and = $ \\cap$\n",
        "\n",
        "\"or\": Retorna True se pelo menos uma das afirmações for verdadeira.\n",
        "\n",
        "or = $\\cup$\n",
        "\n",
        "\"not\": Inverte o resultado, retorna False se o resultado for verdadeiro.\n",
        "\n",
        "not = $\\neg$"
      ]
    },
    {
      "cell_type": "code",
      "execution_count": null,
      "metadata": {
        "colab": {
          "base_uri": "https://localhost:8080/"
        },
        "id": "p4jrD8sZXLCW",
        "outputId": "c6609205-bcff-4be2-8557-9d8112e02a3c"
      },
      "outputs": [
        {
          "name": "stdout",
          "output_type": "stream",
          "text": [
            "True\n",
            "False\n"
          ]
        }
      ],
      "source": [
        "print( 1 < 2 and 2 > 1) #ambas verdadeiras\n",
        "print(1 < 2 and 2 < 1) #apenas uma verdadeira"
      ]
    },
    {
      "cell_type": "code",
      "execution_count": null,
      "metadata": {
        "colab": {
          "base_uri": "https://localhost:8080/"
        },
        "id": "aD-gSKg0XLFa",
        "outputId": "bb37d51c-7bdc-4862-d667-d060920bd43f"
      },
      "outputs": [
        {
          "name": "stdout",
          "output_type": "stream",
          "text": [
            "True\n",
            "False\n"
          ]
        }
      ],
      "source": [
        "print(1 < 2 or 1 > 2) #apenas uma verdadeira\n",
        "print (2 < 1 or 1 > 2) #ambas falsas"
      ]
    },
    {
      "cell_type": "code",
      "execution_count": null,
      "metadata": {
        "colab": {
          "base_uri": "https://localhost:8080/"
        },
        "id": "vv4FRDE7ZS1Z",
        "outputId": "5de4215f-fe88-4245-dab5-a1aa53a30593"
      },
      "outputs": [
        {
          "name": "stdout",
          "output_type": "stream",
          "text": [
            "False\n",
            "True\n"
          ]
        }
      ],
      "source": [
        "n = 1 < 2 and 2 > 1\n",
        "m = 1 < 2 and 1 > 2\n",
        "print(not(n))\n",
        "print(not(m))"
      ]
    },
    {
      "cell_type": "markdown",
      "metadata": {
        "id": "puHCQYyAPSbn"
      },
      "source": [
        "# <font color = black/>Variáveis\n",
        "\n"
      ]
    },
    {
      "cell_type": "code",
      "execution_count": null,
      "metadata": {
        "colab": {
          "base_uri": "https://localhost:8080/"
        },
        "id": "tPIOY3dpPhZn",
        "outputId": "fc131db6-ad48-4d08-9e83-0191b8299290"
      },
      "outputs": [
        {
          "name": "stdout",
          "output_type": "stream",
          "text": [
            "15 12\n",
            "2.1\n",
            "True False\n"
          ]
        }
      ],
      "source": [
        "#variável inteira#\n",
        "var_tipoInteira = 5 * 3\n",
        "var_tipoInteira1 = int(4 * 3)\n",
        "print(var_tipoInteira, var_tipoInteira1)\n",
        "\n",
        "#variável Flutuante\n",
        "var_tipoFloat = 2.1\n",
        "print(var_tipoFloat)\n",
        "\n",
        "#variável tipo boolean\n",
        "\n",
        "verdadeiro = True\n",
        "falso = False\n",
        "print(verdadeiro, falso)\n"
      ]
    },
    {
      "cell_type": "markdown",
      "metadata": {
        "id": "S3GcdM4IPmn9"
      },
      "source": [
        "Tipos de variáveis:\n",
        "String para tudo que for reconhecido como texto.\n",
        "\n",
        "Int para números inteiros.\n",
        "\n",
        "Float para valores flutuantes ($\\mathbb{R} - \\mathbb{Z}$). Para escrever float é necessário usar ponto."
      ]
    },
    {
      "cell_type": "markdown",
      "metadata": {
        "id": "jgyID2-2idrl"
      },
      "source": [
        "## Declaração de variáveis\n",
        "\n",
        "Para declarar várias variáveis, podemos compactar tudo em uma linha só."
      ]
    },
    {
      "cell_type": "code",
      "execution_count": null,
      "metadata": {
        "colab": {
          "base_uri": "https://localhost:8080/"
        },
        "id": "GFbZ2ms3iwHr",
        "outputId": "2ba75b65-0b9e-484c-dbc2-9e13cfd78a98"
      },
      "outputs": [
        {
          "name": "stdout",
          "output_type": "stream",
          "text": [
            "maçã banana limão\n",
            "lkj jhg 123\n",
            "variáveis\n"
          ]
        }
      ],
      "source": [
        "Fruta1, Fruta2, Fruta3 = [ \"maçã\", 'banana', 'limão']\n",
        "print(Fruta1, Fruta2, Fruta3)\n",
        "\n",
        "#podemos também atribuir, posteriomente,  valores de uma lista a variáveis\n",
        "#que são declaradas depois.\n",
        "\n",
        "ListaDeVariáveis = ['lkj', 'jhg', '123']\n",
        "valor1, valor2, valor3 =  ListaDeVariáveis\n",
        "print(valor1, valor2, valor3)\n",
        "\n"
      ]
    },
    {
      "cell_type": "markdown",
      "metadata": {
        "id": "v8Yv3lEQk0PA"
      },
      "source": [
        "## Concatenação"
      ]
    },
    {
      "cell_type": "code",
      "execution_count": null,
      "metadata": {
        "colab": {
          "base_uri": "https://localhost:8080/"
        },
        "id": "CizPIgtvkrik",
        "outputId": "9dd8aea4-06eb-496a-b4f4-a5a677ca8e67"
      },
      "outputs": [
        {
          "name": "stdout",
          "output_type": "stream",
          "text": [
            "variáveis\n"
          ]
        }
      ],
      "source": [
        "#concatenação\n",
        "\n",
        "nome1 = \"var\"\n",
        "nome2 = 'iáveis'\n",
        "print(nome1 + nome2)"
      ]
    },
    {
      "cell_type": "markdown",
      "metadata": {
        "id": "BEpyS73IVyAj"
      },
      "source": [
        "## <font color =  black> Tipos de Variáveis\n",
        "\n",
        "Tipos: String (str), Inteira (int), Flutuante (float), Booleana (bool), Complexa (complex),"
      ]
    },
    {
      "cell_type": "code",
      "execution_count": null,
      "metadata": {
        "id": "4oz9vPUGYCO_"
      },
      "outputs": [],
      "source": [
        "String = str('hello world')\n",
        "Inteira = int(123)\n",
        "Flutuante = float(1.4)\n",
        "Booleano = bool(8)\n",
        "Complexa = complex(2+1j)\n",
        "Tupla = tuple(('1', 1, 'Amadeus'))\n",
        "Lista = list(['banana', 123, 'amadeus'])\n",
        "Dicionário = dict(nome = 'theusin', idade = '27')\n",
        "\n",
        "\n"
      ]
    },
    {
      "cell_type": "markdown",
      "metadata": {
        "id": "e03YEZHVk4eX"
      },
      "source": [
        "## Operações entre Variáveis\n",
        "\n"
      ]
    },
    {
      "cell_type": "code",
      "execution_count": null,
      "metadata": {
        "colab": {
          "base_uri": "https://localhost:8080/"
        },
        "id": "LASPwcDmlJl8",
        "outputId": "267b466e-23c4-4405-f5ac-08dec23bb76b"
      },
      "outputs": [
        {
          "name": "stdout",
          "output_type": "stream",
          "text": [
            "56 2197\n"
          ]
        }
      ],
      "source": [
        "linhas = 7\n",
        "colunas = 8\n",
        "x = y = z = 13\n",
        "print(linhas*colunas, x*y*z)"
      ]
    },
    {
      "cell_type": "markdown",
      "metadata": {
        "id": "-6mXfSmfhoel"
      },
      "source": [
        "## Tratamento de variáveis\n"
      ]
    },
    {
      "cell_type": "markdown",
      "metadata": {
        "id": "SmIojb3WdoUL"
      },
      "source": [
        "Função round - Arredonda para a quantidade de casas decimais que for *desejada*"
      ]
    },
    {
      "cell_type": "code",
      "execution_count": null,
      "metadata": {
        "colab": {
          "base_uri": "https://localhost:8080/"
        },
        "id": "-WXHu_1NlScd",
        "outputId": "a4c2f411-5714-4359-d00a-904e4da110f7"
      },
      "outputs": [
        {
          "data": {
            "text/plain": [
              "15.123"
            ]
          },
          "execution_count": 6,
          "metadata": {},
          "output_type": "execute_result"
        }
      ],
      "source": [
        "arredonda = 15.12345678\n",
        "round(arredonda, 3)\n"
      ]
    },
    {
      "cell_type": "markdown",
      "metadata": {
        "id": "ErurWw9dh8TT"
      },
      "source": [
        "Função len - Esta função indica o tamanho de uma lista, de um dicionário ou a quantidade de caracteres de uma string"
      ]
    },
    {
      "cell_type": "code",
      "execution_count": null,
      "metadata": {
        "colab": {
          "base_uri": "https://localhost:8080/"
        },
        "id": "rG7_WQpsh7qD",
        "outputId": "db39a43c-12a2-4e40-84b1-f4c85c7382a1"
      },
      "outputs": [
        {
          "data": {
            "text/plain": [
              "8"
            ]
          },
          "execution_count": 18,
          "metadata": {},
          "output_type": "execute_result"
        }
      ],
      "source": [
        "Dicionario_2 = {'amadeus', 'orlando', 123}\n",
        "tupla_1 = ('banana', 12)\n",
        "apelido = 'Parafuso'\n",
        "\n",
        "\n",
        "len(apelido)"
      ]
    },
    {
      "cell_type": "markdown",
      "metadata": {
        "id": "sGlqNJ4gJlS1"
      },
      "source": [
        "## Tratamento de Strings\n",
        "\n",
        "Ao receber uma string pode surgir a necessidade de fazer algumas alterações. Tais alterações podem acontecer por meio de uma função.\n",
        "\n",
        "Funções:\n",
        "Replace, startwith, endwith, count, captalizeisdigit\n"
      ]
    },
    {
      "cell_type": "code",
      "execution_count": null,
      "metadata": {
        "colab": {
          "base_uri": "https://localhost:8080/"
        },
        "id": "bj-5aspFKth3",
        "outputId": "38c8e8f4-c5a1-4daa-b40b-d35f2a48ccd0"
      },
      "outputs": [
        {
          "name": "stdout",
          "output_type": "stream",
          "text": [
            "Olá mundão!\n"
          ]
        }
      ],
      "source": [
        "saudacao = 'Olá mundão!'\n",
        "print(saudacao)"
      ]
    },
    {
      "cell_type": "code",
      "execution_count": null,
      "metadata": {
        "colab": {
          "base_uri": "https://localhost:8080/"
        },
        "id": "mlwJSSriLy0Z",
        "outputId": "13b9f891-f6c8-472a-a129-32fdfffa0fcd"
      },
      "outputs": [
        {
          "name": "stdout",
          "output_type": "stream",
          "text": [
            "Bom dia mundo!\n"
          ]
        }
      ],
      "source": [
        "saudação = saudacao.replace('Olá mundão', 'Bom dia mundo') ###a função replace não armazena o valor. Para isso\n",
        "#devemos atribuir o valor a uma nova variável.\n",
        "print(saudação)"
      ]
    },
    {
      "cell_type": "code",
      "execution_count": null,
      "metadata": {
        "colab": {
          "base_uri": "https://localhost:8080/"
        },
        "id": "9q182M3oOv_C",
        "outputId": "d6dbb3a8-d1a0-4d8c-c476-a09769e95b63"
      },
      "outputs": [
        {
          "data": {
            "text/plain": [
              "False"
            ]
          },
          "execution_count": 20,
          "metadata": {},
          "output_type": "execute_result"
        }
      ],
      "source": [
        "#startswith\n",
        "latim = '       Lorem ipsum dolor sit amet, consectetur adipiscing elit. Sed ullamcorper, metus ut interdum commodo, lectus ante lacinia massa, non aliquam est mauris et elit. Fusce at quam id elit ultrices    '\n",
        "\n",
        "latim.startswith('ultrices')"
      ]
    },
    {
      "cell_type": "code",
      "execution_count": null,
      "metadata": {
        "colab": {
          "base_uri": "https://localhost:8080/"
        },
        "id": "VALLceflRI77",
        "outputId": "1add0ddd-f8a5-4f89-f433-7af603e7b269"
      },
      "outputs": [
        {
          "data": {
            "text/plain": [
              "True"
            ]
          },
          "execution_count": 21,
          "metadata": {},
          "output_type": "execute_result"
        }
      ],
      "source": [
        "#endswith\n",
        "latim.endswith('ultrices')"
      ]
    },
    {
      "cell_type": "code",
      "execution_count": null,
      "metadata": {
        "colab": {
          "base_uri": "https://localhost:8080/"
        },
        "id": "ka41qC6dYLSf",
        "outputId": "c94f7c54-16bf-45fd-aa89-de683a361db3"
      },
      "outputs": [
        {
          "data": {
            "text/plain": [
              "['Lorem',\n",
              " 'ipsum',\n",
              " 'dolor',\n",
              " 'sit',\n",
              " 'amet,',\n",
              " 'consectetur',\n",
              " 'adipiscing',\n",
              " 'elit.',\n",
              " 'Sed',\n",
              " 'ullamcorper,',\n",
              " 'metus',\n",
              " 'ut',\n",
              " 'interdum',\n",
              " 'commodo,',\n",
              " 'lectus',\n",
              " 'ante',\n",
              " 'lacinia',\n",
              " 'massa,',\n",
              " 'non',\n",
              " 'aliquam',\n",
              " 'est',\n",
              " 'mauris',\n",
              " 'et',\n",
              " 'elit.',\n",
              " 'Fusce',\n",
              " 'at',\n",
              " 'quam',\n",
              " 'id',\n",
              " 'elit',\n",
              " 'ultrices']"
            ]
          },
          "execution_count": 24,
          "metadata": {},
          "output_type": "execute_result"
        }
      ],
      "source": [
        "#split separa de acordo com o parâmetro que for dado. Ex: \"-\"\n",
        "latim.split( )"
      ]
    },
    {
      "cell_type": "code",
      "execution_count": null,
      "metadata": {
        "colab": {
          "base_uri": "https://localhost:8080/",
          "height": 53
        },
        "id": "G1iR1UpaYcpm",
        "outputId": "f6443104-8f5e-4427-a773-fbb89c2c6a06"
      },
      "outputs": [
        {
          "data": {
            "application/vnd.google.colaboratory.intrinsic+json": {
              "type": "string"
            },
            "text/plain": [
              "'Lorem ipsum dolor sit amet, consectetur adipiscing elit. Sed ullamcorper, metus ut interdum commodo, lectus ante lacinia massa, non aliquam est mauris et elit. Fusce at quam id elit ultrices'"
            ]
          },
          "execution_count": 26,
          "metadata": {},
          "output_type": "execute_result"
        }
      ],
      "source": [
        "#remove os espaços do início e do final de uma string\n",
        "latim.strip()"
      ]
    },
    {
      "cell_type": "code",
      "execution_count": null,
      "metadata": {
        "id": "2Z1gzJjsY3ur"
      },
      "outputs": [],
      "source": []
    },
    {
      "cell_type": "markdown",
      "metadata": {
        "id": "60Jt_lhZAdXG"
      },
      "source": [
        "# Condicional\n"
      ]
    },
    {
      "cell_type": "markdown",
      "metadata": {
        "id": "LEhxK7QbAzPc"
      },
      "source": [
        "## if:\n",
        "\n",
        "A instrução if em Python é usada para testar uma condição e executar um bloco de código se a condição for verdadeira. A sintaxe da instrução if é a seguinte:\n",
        "Se a condição for verdadeira, o bloco de código será executado. Se a condição for falsa, o bloco de código não será executado."
      ]
    },
    {
      "cell_type": "code",
      "execution_count": null,
      "metadata": {
        "id": "O2ddfbS7AiA1"
      },
      "outputs": [],
      "source": [
        "\n",
        "# if: Condição se a pessoa for menor de idade ela poderá acessar um site.\n",
        "idade = int(input(\"Digite sua idade: \"))\n",
        "\n",
        "if idade >= 18:\n",
        "  print('Acesso válido')"
      ]
    },
    {
      "cell_type": "markdown",
      "metadata": {
        "id": "1DkCZrscA58j"
      },
      "source": [
        "## elif:\n",
        "\n",
        "A instrução elif em Python é usada para testar uma condição adicional se a primeira condição for falsa. A sintaxe da instrução elif é a seguinte:\n",
        "Se a primeira condição for verdadeira, o bloco de código 1 será executado. Se a primeira condição for falsa e a segunda condição for verdadeira, o bloco de código 2 será executado. Se ambas as condições forem falsas, nenhum bloco de código será executado."
      ]
    },
    {
      "cell_type": "code",
      "execution_count": null,
      "metadata": {
        "id": "rP_wLwLABNGS"
      },
      "outputs": [],
      "source": [
        "\n",
        "# elif: Condição se a pessoa for menor de idade ela poderá acessar um site.\n",
        "idade = int(input(\"Digite sua idade: \"))\n",
        "\n",
        "if idade >= 18:\n",
        "  print('Acesso válido')\n",
        "elif idade < 18 and idade >= 14:\n",
        "  print('Acesso sob análise')"
      ]
    },
    {
      "cell_type": "markdown",
      "metadata": {
        "id": "JgQf86SjBa-S"
      },
      "source": [
        "## else:\n",
        "\n",
        "A instrução else em Python é usada para executar um bloco de código se todas as outras condições forem falsas. A sintaxe da instrução else é a seguinte:\n",
        "Se a primeira condição for verdadeira, o bloco de código 1 será executado. Se a primeira condição for falsa e a segunda condição for verdadeira, o bloco de código 2 será executado. Se ambas as condições forem falsas, o bloco de código 3 será executado."
      ]
    },
    {
      "cell_type": "code",
      "execution_count": null,
      "metadata": {
        "id": "yVBdlcb_Bi4w"
      },
      "outputs": [],
      "source": [
        "# else: Condição se a pessoa for menor de idade ela poderá acessar um site.\n",
        "idade = int(input(\"Digite sua idade: \"))\n",
        "\n",
        "if idade >= 18:\n",
        "  print('Acesso válido')\n",
        "elif idade < 18 and idade >= 14:\n",
        "  print('Acesso sob análise')\n",
        "else:\n",
        "  print('Acesso negado')"
      ]
    },
    {
      "cell_type": "markdown",
      "metadata": {
        "id": "TRHVeYoMUSES"
      },
      "source": [
        "# <font color = black/> Lista,  Túpla e Dicionário\n",
        "\n",
        "\n",
        "<font color = black>Lista - usa-se colchetes [ ].\n",
        "\n",
        "Em uma lista, o valor pode ser alterado posteriormente. Os itens podem ser string ou valores numéricos.\n",
        "\n",
        "<font color = black>Tupla - usa-se parênteses ( ).\n",
        "\n",
        "Em uma tupla, o valor não pode ser alterado. Os itens podem ser string ou valores numéricos.\n",
        "\n",
        "<font color = black>Dicionário - usa-se chaves { }.\n",
        "\n",
        "No dicionário é necessário atribuir a cada item um determinado valor. A atribuição deve ser feita usando dois pontos (:) e posicionar uma vírgula ao final de cada linha. Tudo deve ser escrito como uma String. Os itens só podem ser strings.\n",
        "\n",
        "Obs: os valores retornam sempre em ordem alfabética.\n"
      ]
    },
    {
      "cell_type": "markdown",
      "metadata": {
        "id": "tsuq3SC5UioL"
      },
      "source": []
    },
    {
      "cell_type": "code",
      "execution_count": null,
      "metadata": {
        "colab": {
          "base_uri": "https://localhost:8080/"
        },
        "id": "LzuDDiz1UfIR",
        "outputId": "7ba43cff-5917-4445-f0b7-43eaaa4e597b"
      },
      "outputs": [
        {
          "name": "stdout",
          "output_type": "stream",
          "text": [
            "{'Nome': 'Matheus', 'id': 8, 'lista': [1, 2, 1, 'matheus '], 'tupla': (1, 3, 'odete')}\n"
          ]
        }
      ],
      "source": [
        "Lista = [1, 2, 1, \"matheus\"]\n",
        "\n",
        "Tupla = (1, 3, \"odete\")\n",
        "\n",
        "Dicionário = {\n",
        "  \"Nome\" : \"Matheus\",\n",
        "  'id': 8,\n",
        "  \"lista\" : Lista,\n",
        "  \"tupla\" : Tupla,\n",
        "}\n",
        "print(Dicionário)"
      ]
    },
    {
      "cell_type": "markdown",
      "metadata": {
        "id": "fhCTZ38kmpLD"
      },
      "source": [
        "Uma string também pode ser vista como uma lista.\n",
        "\n",
        "Podemos fatiar as strings da seguinte forma:\n",
        "\n"
      ]
    },
    {
      "cell_type": "code",
      "execution_count": null,
      "metadata": {
        "colab": {
          "base_uri": "https://localhost:8080/"
        },
        "id": "x632fdjvd1Pv",
        "outputId": "2f21a018-8e6a-48f1-8d58-e50e97030392"
      },
      "outputs": [
        {
          "data": {
            "text/plain": [
              "['matheus', 'Henrique']"
            ]
          },
          "execution_count": 23,
          "metadata": {},
          "output_type": "execute_result"
        }
      ],
      "source": []
    },
    {
      "cell_type": "markdown",
      "metadata": {
        "id": "AtQr38nEiZsH"
      },
      "source": [
        "## Lista\n",
        "Criando e declarando uma lista\n"
      ]
    },
    {
      "cell_type": "code",
      "execution_count": null,
      "metadata": {
        "colab": {
          "base_uri": "https://localhost:8080/"
        },
        "id": "GKGTKNeaP5Ax",
        "outputId": "7c9a47cb-746e-432f-f135-d34a8db5f26c"
      },
      "outputs": [
        {
          "name": "stdout",
          "output_type": "stream",
          "text": [
            "[]\n",
            "[3, 7, 11, 15, 19, 23, 27, 31]\n",
            "['0', '6', '1', '9', '9', '4', '4', '3', '9', '1', '9', '1']\n"
          ]
        }
      ],
      "source": [
        "cachorro =[] #cria uma lista vazia\n",
        "numero = list(range(3, 32, 4)) #cria uma lista numérica\n",
        "\n",
        "#função range -\n",
        "# essa função é como uma  progressão aritmética\n",
        "# parâmetros (primeiro elemento, último elemento, razão)\n",
        "## deve ficar dentro de uma função de criação de lista\n",
        "\n",
        "cel = list('061994439191')\n",
        "#função list cria uma lista com o parâmetro sendo uma string\n",
        "\n",
        "print(cachorro)\n",
        "print(numero)\n",
        "print(cel)"
      ]
    },
    {
      "cell_type": "markdown",
      "metadata": {
        "id": "4TxYxPPvBkRf"
      },
      "source": [
        "### Iteráveis\n",
        "\n",
        "Em Python, um objeto iterável é uma coleção de elementos que você pode fazer um loop (ou iterar ) através de um elemento por vez. Simplificando, um iterável é um objeto semelhante a uma lista (ou semelhante a um array)."
      ]
    },
    {
      "cell_type": "markdown",
      "metadata": {
        "id": "OaOITXsOBWHR"
      },
      "source": [
        "### Acessando elementos de uma lista\n",
        "\n",
        "É possível chamar determinados elementos de uma lista através de certos comandos.  "
      ]
    },
    {
      "cell_type": "code",
      "execution_count": null,
      "metadata": {
        "colab": {
          "base_uri": "https://localhost:8080/",
          "height": 245
        },
        "id": "JakbvHC5_fjP",
        "outputId": "7592dfe3-dc57-40c8-db6b-7c081f614286"
      },
      "outputs": [
        {
          "ename": "NameError",
          "evalue": "ignored",
          "output_type": "error",
          "traceback": [
            "\u001b[0;31m---------------------------------------------------------------------------\u001b[0m",
            "\u001b[0;31mNameError\u001b[0m                                 Traceback (most recent call last)",
            "\u001b[0;32m<ipython-input-7-45e8cf3a21d6>\u001b[0m in \u001b[0;36m<cell line: 1>\u001b[0;34m()\u001b[0m\n\u001b[0;32m----> 1\u001b[0;31m \u001b[0mprint\u001b[0m\u001b[0;34m(\u001b[0m\u001b[0mcel\u001b[0m\u001b[0;34m[\u001b[0m\u001b[0;34m:\u001b[0m\u001b[0;36m5\u001b[0m\u001b[0;34m]\u001b[0m\u001b[0;34m)\u001b[0m  \u001b[0;31m# deverá printar todos os elementos da lista até o quinto termo\u001b[0m\u001b[0;34m\u001b[0m\u001b[0;34m\u001b[0m\u001b[0m\n\u001b[0m\u001b[1;32m      2\u001b[0m \u001b[0mprint\u001b[0m\u001b[0;34m(\u001b[0m\u001b[0mcel\u001b[0m\u001b[0;34m[\u001b[0m\u001b[0;36m2\u001b[0m\u001b[0;34m:\u001b[0m\u001b[0;36m6\u001b[0m\u001b[0;34m]\u001b[0m\u001b[0;34m)\u001b[0m \u001b[0;31m# deverá imprimir do terceiro elemento até o sexto\u001b[0m\u001b[0;34m\u001b[0m\u001b[0;34m\u001b[0m\u001b[0m\n\u001b[1;32m      3\u001b[0m \u001b[0mprint\u001b[0m\u001b[0;34m(\u001b[0m\u001b[0mcel\u001b[0m\u001b[0;34m[\u001b[0m\u001b[0;36m3\u001b[0m\u001b[0;34m:\u001b[0m\u001b[0;34m]\u001b[0m\u001b[0;34m)\u001b[0m\u001b[0;34m\u001b[0m\u001b[0;34m\u001b[0m\u001b[0m\n\u001b[1;32m      4\u001b[0m \u001b[0mprint\u001b[0m\u001b[0;34m(\u001b[0m\u001b[0mcel\u001b[0m\u001b[0;34m[\u001b[0m\u001b[0;34m-\u001b[0m\u001b[0;36m3\u001b[0m\u001b[0;34m]\u001b[0m\u001b[0;34m)\u001b[0m  \u001b[0;31m# deverá imprimir o terceiro elemento da lista ordenado de trás para frente\u001b[0m\u001b[0;34m\u001b[0m\u001b[0;34m\u001b[0m\u001b[0m\n\u001b[1;32m      5\u001b[0m                 \u001b[0;31m# nesse último caso, ao imprimir elementos negativos de uma lista\u001b[0m\u001b[0;34m\u001b[0m\u001b[0;34m\u001b[0m\u001b[0m\n",
            "\u001b[0;31mNameError\u001b[0m: name 'cel' is not defined"
          ]
        }
      ],
      "source": [
        "print(cel[:5])  # deverá printar todos os elementos da lista até o quinto termo\n",
        "print(cel[2:6]) # deverá imprimir do terceiro elemento até o sexto\n",
        "print(cel[3:])\n",
        "print(cel[-3])  # deverá imprimir o terceiro elemento da lista ordenado de trás para frente\n",
        "                # nesse último caso, ao imprimir elementos negativos de uma lista\n",
        "print(max(numero)) # essa função chama o maior elemento de uma lista NUMÉRICA!\n",
        "print(min(numero)) # essa função chama o menor elemento de uma lista NUMÉRICA!\n",
        "\n",
        "print(numero.index(23))\n"
      ]
    },
    {
      "cell_type": "markdown",
      "metadata": {
        "id": "yozMped7NbFQ"
      },
      "source": [
        "### Iterações entre Listas\n",
        "Devemos ficar atentos às formas de iteração entre listas e elementos de listas.\n",
        "A função sum só funciona para fazer o somatório de listas numéricas. Entretanto, se fizermos a soma de duas listas iremos obter uma concatenação."
      ]
    },
    {
      "cell_type": "code",
      "execution_count": null,
      "metadata": {
        "colab": {
          "base_uri": "https://localhost:8080/",
          "height": 245
        },
        "id": "NugJtOYqAhcg",
        "outputId": "d50d4361-d8f4-40e4-ed7e-62917fff774d"
      },
      "outputs": [
        {
          "ename": "NameError",
          "evalue": "ignored",
          "output_type": "error",
          "traceback": [
            "\u001b[0;31m---------------------------------------------------------------------------\u001b[0m",
            "\u001b[0;31mNameError\u001b[0m                                 Traceback (most recent call last)",
            "\u001b[0;32m<ipython-input-6-3468577fa3bf>\u001b[0m in \u001b[0;36m<cell line: 13>\u001b[0;34m()\u001b[0m\n\u001b[1;32m     11\u001b[0m \u001b[0;31m#Caso o parâmetro seja false a função retorna o formato natural\u001b[0m\u001b[0;34m\u001b[0m\u001b[0;34m\u001b[0m\u001b[0m\n\u001b[1;32m     12\u001b[0m \u001b[0;34m\u001b[0m\u001b[0m\n\u001b[0;32m---> 13\u001b[0;31m \u001b[0mprint\u001b[0m\u001b[0;34m(\u001b[0m\u001b[0mnumero\u001b[0m\u001b[0;34m)\u001b[0m\u001b[0;34m\u001b[0m\u001b[0;34m\u001b[0m\u001b[0m\n\u001b[0m\u001b[1;32m     14\u001b[0m \u001b[0mprint\u001b[0m\u001b[0;34m(\u001b[0m\u001b[0mnumero\u001b[0m\u001b[0;34m.\u001b[0m\u001b[0msort\u001b[0m\u001b[0;34m(\u001b[0m\u001b[0mreverse\u001b[0m \u001b[0;34m=\u001b[0m \u001b[0;32mTrue\u001b[0m\u001b[0;34m)\u001b[0m\u001b[0;34m)\u001b[0m\u001b[0;34m\u001b[0m\u001b[0;34m\u001b[0m\u001b[0m\n\u001b[1;32m     15\u001b[0m \u001b[0mlen\u001b[0m\u001b[0;34m(\u001b[0m\u001b[0mnumero\u001b[0m\u001b[0;34m)\u001b[0m \u001b[0;31m#essa função imprime a cardinalidade de uma lista\u001b[0m\u001b[0;34m\u001b[0m\u001b[0;34m\u001b[0m\u001b[0m\n",
            "\u001b[0;31mNameError\u001b[0m: name 'numero' is not defined"
          ]
        }
      ],
      "source": [
        "#Repetição de listas\n",
        "#Ao multiplicar uma lista por um número ocorrerá a repetição da lista\n",
        "#print(numero*3)\n",
        "\n",
        "#Concatenação\n",
        "#Somar listas é o mesmo que concatenar\n",
        "#print(cel+numero)\n",
        "\n",
        "#Função sort - Reverse\n",
        "#Essa função retorna uma lista ordenada de trás para frente se o parâmetro for true\n",
        "#Caso o parâmetro seja false a função retorna o formato natural\n",
        "\n",
        "print(numero)\n",
        "print(numero.sort(reverse = True))\n",
        "len(numero) #essa função imprime a cardinalidade de uma lista\n",
        "\n",
        "\n",
        "\n",
        "\n"
      ]
    },
    {
      "cell_type": "markdown",
      "metadata": {
        "id": "oZLy4pdoUSPQ"
      },
      "source": [
        "### Iteração entre elementos de uma lista"
      ]
    },
    {
      "cell_type": "code",
      "execution_count": null,
      "metadata": {
        "colab": {
          "base_uri": "https://localhost:8080/",
          "height": 314
        },
        "id": "Fy9AO4tCOipw",
        "outputId": "4087298a-ef2d-4fd1-f6cb-cce6f9e1d0d7"
      },
      "outputs": [
        {
          "name": "stdout",
          "output_type": "stream",
          "text": [
            "109\n",
            "1\n",
            "[3, 7, 11, 15, 19, 23, 31]\n",
            "[3, 7, 11, 15, 19, 23, 31, 6666]\n"
          ]
        },
        {
          "ename": "ValueError",
          "evalue": "ignored",
          "output_type": "error",
          "traceback": [
            "\u001b[0;31m---------------------------------------------------------------------------\u001b[0m",
            "\u001b[0;31mValueError\u001b[0m                                Traceback (most recent call last)",
            "\u001b[0;32m<ipython-input-10-6def681ed060>\u001b[0m in \u001b[0;36m<cell line: 7>\u001b[0;34m()\u001b[0m\n\u001b[1;32m      5\u001b[0m \u001b[0mnumero\u001b[0m\u001b[0;34m.\u001b[0m\u001b[0mappend\u001b[0m\u001b[0;34m(\u001b[0m\u001b[0;36m6666\u001b[0m\u001b[0;34m)\u001b[0m \u001b[0;31m#adiciona o elemento(parâmetro) na última posição da lista\u001b[0m\u001b[0;34m\u001b[0m\u001b[0;34m\u001b[0m\u001b[0m\n\u001b[1;32m      6\u001b[0m \u001b[0mprint\u001b[0m\u001b[0;34m(\u001b[0m\u001b[0mnumero\u001b[0m\u001b[0;34m)\u001b[0m\u001b[0;34m\u001b[0m\u001b[0;34m\u001b[0m\u001b[0m\n\u001b[0;32m----> 7\u001b[0;31m \u001b[0mnumero\u001b[0m\u001b[0;34m.\u001b[0m\u001b[0mremove\u001b[0m\u001b[0;34m(\u001b[0m\u001b[0;36m27\u001b[0m\u001b[0;34m)\u001b[0m\u001b[0;34m\u001b[0m\u001b[0;34m\u001b[0m\u001b[0m\n\u001b[0m\u001b[1;32m      8\u001b[0m \u001b[0mprint\u001b[0m\u001b[0;34m(\u001b[0m\u001b[0mnumero\u001b[0m\u001b[0;34m)\u001b[0m\u001b[0;34m\u001b[0m\u001b[0;34m\u001b[0m\u001b[0m\n\u001b[1;32m      9\u001b[0m \u001b[0mnumero\u001b[0m\u001b[0;34m.\u001b[0m\u001b[0mpop\u001b[0m\u001b[0;34m(\u001b[0m\u001b[0;36m7\u001b[0m\u001b[0;34m)\u001b[0m \u001b[0;31m#remove um elemento de acordo com sua posição (parâmetro recebe a posição)\u001b[0m\u001b[0;34m\u001b[0m\u001b[0;34m\u001b[0m\u001b[0m\n",
            "\u001b[0;31mValueError\u001b[0m: list.remove(x): x not in list"
          ]
        }
      ],
      "source": [
        "from itertools import count\n",
        "print(sum(numero)) #soma todos os elementos de uma lista\n",
        "print(numero.count(3)) #diz quanto elementos iguais a esse existe dentro da lista\n",
        "print (numero)\n",
        "numero.append(6666) #adiciona o elemento(parâmetro) na última posição da lista\n",
        "print(numero)\n",
        "numero.remove(27)\n",
        "print(numero)\n",
        "numero.pop(7) #remove um elemento de acordo com sua posição (parâmetro recebe a posição)\n",
        "print(numero)\n"
      ]
    },
    {
      "cell_type": "code",
      "execution_count": null,
      "metadata": {
        "id": "JFr7RAy2ZSxk"
      },
      "outputs": [],
      "source": [
        "listagem = [1, 5, 9, 7, 6, 41, 654]\n",
        "print(listagem)\n",
        "listagem.extend([1000])\n",
        "print(listagem)"
      ]
    },
    {
      "cell_type": "code",
      "execution_count": null,
      "metadata": {
        "colab": {
          "base_uri": "https://localhost:8080/"
        },
        "id": "SmCUjTFxaVey",
        "outputId": "89f10681-bfa6-4d37-a868-4e841629560c"
      },
      "outputs": [
        {
          "name": "stdout",
          "output_type": "stream",
          "text": [
            "[1, 5, 9, 1000]\n",
            "[100, 150, 200, 250, 300, 350, 400, 450, 500, 550, 600, 650, 700, 750, 800, 850, 900, 950]\n",
            "[]\n"
          ]
        }
      ],
      "source": [
        "del listagem[3] # a diferença entre a função del e a função .remove() é que del apaga o elemento de acordo com sua indexação, já o remove apaga de acordo com o valor fornecido\n",
        "print(listagem)\n",
        "\n",
        "lista_limpa = list(range(100, 1000, 50))\n",
        "print(lista_limpa)\n",
        "lista_limpa.clear()\n",
        "print(lista_limpa)\n"
      ]
    },
    {
      "cell_type": "markdown",
      "metadata": {
        "id": "cO_K5xeERB2A"
      },
      "source": [
        "### Cópias de listas\n",
        "\n",
        "Para fazer a cópia de uma lista é recomendável que seja usada a função .copy()"
      ]
    },
    {
      "cell_type": "code",
      "execution_count": null,
      "metadata": {
        "colab": {
          "base_uri": "https://localhost:8080/"
        },
        "id": "OEm9iJLQUa0z",
        "outputId": "4a21583c-4475-4def-f20d-f8d02b5cea95"
      },
      "outputs": [
        {
          "name": "stdout",
          "output_type": "stream",
          "text": [
            "[1, 4, 7, 10, 13, 16, 19, 22, 25, 28, 31, 34, 37, 40, 43, 46, 49, 52, 55, 58, 61, 64, 67, 70, 73, 76, 79, 82, 85, 88, 91, 94, 97]\n",
            "[0, 4, 7, 10, 13, 16, 19, 22, 25, 28, 31, 34, 37, 40, 43, 46, 49, 52, 55, 58, 61, 64, 67, 70, 73, 76, 79, 82, 85, 88, 91, 94, 97]\n"
          ]
        }
      ],
      "source": [
        "sequencia = list(range(1, 100, 3))\n",
        "\"de_sequencia = sequencia\" #se fizermos essa declaração, tudo o que for modificado na lista de_sequencia será modificado na lista sequencia\n",
        "#para fazer uma cópia adequada procedemos da seguinte forma:\n",
        "de_sequencia = sequencia.copy()\n",
        "de_sequencia[0] = 0\n",
        "print(sequencia)\n",
        "print(de_sequencia)\n"
      ]
    },
    {
      "cell_type": "markdown",
      "metadata": {
        "id": "TijcMJJpKsa2"
      },
      "source": [
        "### <font color = green> Exercícios\n",
        "\n",
        "<font color = green> Exercício 1 - Crie uma lista de 5 valores reais definidos pelo usuário. Em seguida faça o desvio médio considerando apenas dois algarismos significativos.\n",
        "\n",
        "Obs: O desvio médio é dado pela fórmula:\n",
        "$DM = \\sum_{i=1}^{n}\\frac{\\vert x_i-\\overline{x} \\vert}{n-1}$\n",
        "\n",
        "<font color = green> Exercício 2 - Faça o mesmo comando do exercício 1, porém agora trabalharemos com o desvio padrão.  \n",
        "\n",
        "Obs: O desvio médio é dado pela fórmula:\n",
        "$\\sigma = \\sqrt{ \\frac{\\sum_{i=1}^{n}( x_i-\\mu )^2}{N}}$"
      ]
    },
    {
      "cell_type": "code",
      "execution_count": null,
      "metadata": {
        "colab": {
          "base_uri": "https://localhost:8080/"
        },
        "id": "1liNVfheM2pO",
        "outputId": "d8a8bf02-8ef7-473c-c8db-da194e437dca"
      },
      "outputs": [
        {
          "name": "stdout",
          "output_type": "stream",
          "text": [
            "Digite o primeiro número: 15\n",
            "Digite o segundo número: 32.5\n",
            "Digite o segundo número: 15.9774\n",
            "Digite o segundo número: 65\n",
            "Digite o segundo número: 82\n",
            "125.62\n"
          ]
        }
      ],
      "source": [
        "a = float(input('Digite o primeiro número: '))\n",
        "b = float(input('Digite o segundo número: '))\n",
        "c = float(input('Digite o segundo número: '))\n",
        "d = float(input('Digite o segundo número: '))\n",
        "e = float(input('Digite o segundo número: '))\n",
        "\n",
        "lista1 = [a, b, c, d, e]\n",
        "\n",
        "media = sum(lista1)/len(lista1)\n",
        "\n",
        "lista2 = []\n",
        "\n",
        "for i in lista1:\n",
        "\n",
        "  x = round(abs(i - media), 2)\n",
        "  lista2.append(x)\n",
        "#DM = sum(lista2)/5\n",
        "\n",
        "#print(DM)\n",
        "\n"
      ]
    },
    {
      "cell_type": "code",
      "execution_count": null,
      "metadata": {
        "id": "9HIpjCHDkTVU"
      },
      "outputs": [],
      "source": [
        "def distance_from_average(test_list):\n",
        "\n",
        "  lista_2=[]\n",
        "  media = sum(test_list)/len(test_list)\n",
        "\n",
        "  for i in test_list:\n",
        "    x = round(abs(i - media), 2)\n",
        "    lista_2.append(x)\n",
        "  return(lista_2)\n",
        "\n",
        "\n"
      ]
    },
    {
      "cell_type": "code",
      "execution_count": null,
      "metadata": {
        "id": "Fs2srMw3rZgB"
      },
      "outputs": [],
      "source": [
        "def distances_from_average(test_list):\n",
        "\n",
        "    media = sum(test_list)/len(test_list)\n",
        "\n",
        "    return list(round (media-i, 2) for i in test_list )\n"
      ]
    },
    {
      "cell_type": "code",
      "execution_count": null,
      "metadata": {
        "id": "4cONtzOHchU-"
      },
      "outputs": [],
      "source": [
        "from statistics import mean as md\n",
        "def distances_from_average(test_list):\n",
        "\n",
        "    media = md(test_list)\n",
        "\n",
        "    return list(round (media-i, 2) for i in test_list )"
      ]
    },
    {
      "cell_type": "markdown",
      "metadata": {
        "id": "sDvG5J22AAWC"
      },
      "source": [
        "#Estruturas de Laço\n",
        "\n",
        "Existem duas estruturas de laço, o laço while e o laço for. Essas estruturas realizam uma determinada tarefa de acordo com um iterável."
      ]
    },
    {
      "cell_type": "markdown",
      "metadata": {
        "id": "-wLdXLsQHmvB"
      },
      "source": [
        "## Laço For\n",
        "\n",
        "Um laço for é usado para iterações sobre uma sequência (lista, tupla, dicionário, um conjunto ou uma string)\n",
        "\n"
      ]
    },
    {
      "cell_type": "code",
      "execution_count": null,
      "metadata": {
        "colab": {
          "base_uri": "https://localhost:8080/"
        },
        "id": "GYFDZPXQIKCG",
        "outputId": "afa388b3-a294-469b-fe33-715732ca5e38"
      },
      "outputs": [
        {
          "name": "stdout",
          "output_type": "stream",
          "text": [
            "2\n",
            "8\n",
            "14\n",
            "20\n",
            "26\n",
            "32\n",
            "38\n",
            "44\n",
            "50\n",
            "56\n",
            "62\n",
            "68\n",
            "74\n",
            "80\n",
            "86\n",
            "92\n",
            "98\n"
          ]
        }
      ],
      "source": [
        "for i in range(1, 50, 3):\n",
        "  print(i*2)\n",
        "#Note que range(1, 50, 3) é um iterável\n",
        "#Sendo assim, a cada elemento i percorrido no iterável o comando é repetido"
      ]
    },
    {
      "cell_type": "markdown",
      "metadata": {
        "id": "HP3QWKxkkpls"
      },
      "source": [
        "### Listas com estrutura de laço for"
      ]
    },
    {
      "cell_type": "code",
      "execution_count": null,
      "metadata": {
        "colab": {
          "base_uri": "https://localhost:8080/"
        },
        "id": "ziWKJAx2lVEm",
        "outputId": "858969de-faba-4baf-ed95-f6a52f6dbbfd"
      },
      "outputs": [
        {
          "name": "stdout",
          "output_type": "stream",
          "text": [
            "[5, 8, 11, 14, 17, 20, 23, 26, 29, 32, 35, 38, 41, 44, 47, 50]\n",
            "[1, 2, 3, 4, 5, 6, 7, 8, 9]\n"
          ]
        }
      ],
      "source": [
        "#Uma forma de criar uma lista usando o laço for\n",
        "a = [variavel for variavel in range(5, 51, 3)]\n",
        "\n",
        "#Outra forma de usar é com a função nativa .append()\n",
        "b = []\n",
        "for valor in range(1, 10):\n",
        "  b.append(valor)\n",
        "print(a)\n",
        "print(b)\n",
        "\n"
      ]
    },
    {
      "cell_type": "markdown",
      "metadata": {
        "id": "mlhNJKd4pKH1"
      },
      "source": [
        "## Laço While\n",
        "\n",
        "O importante a se destacar para o laço while é que ele realiza determinada tarefa até que atinga uma condição verdadeira para sua parada. Caso contrário, ele se reperirá infinitamente."
      ]
    },
    {
      "cell_type": "code",
      "execution_count": null,
      "metadata": {
        "colab": {
          "base_uri": "https://localhost:8080/"
        },
        "id": "JRNcxhx9plzo",
        "outputId": "d41cf5d2-aa86-46dc-92d6-3509a9c78c95"
      },
      "outputs": [
        {
          "name": "stdout",
          "output_type": "stream",
          "text": [
            "[50, 45, 40, 35, 30, 25, 20, 15, 10, 5]\n"
          ]
        }
      ],
      "source": [
        "tabuada_do_5 = []\n",
        "parametro = 10\n",
        "while parametro > 0:\n",
        "  tabuada_do_5.append(parametro*5)\n",
        "  parametro = parametro - 1\n",
        "print(tabuada_do_5)"
      ]
    },
    {
      "cell_type": "markdown",
      "metadata": {
        "id": "BSt8q3OitPGC"
      },
      "source": [
        "### Break  \n",
        "\n",
        "O comando Break é usado para forçar uma parada repentinamente.\n"
      ]
    },
    {
      "cell_type": "code",
      "execution_count": null,
      "metadata": {
        "id": "rjhJ6wCSvYJc"
      },
      "outputs": [],
      "source": [
        "#Parando o código em uma detereminada etapa do laço.\n",
        "for Tabuada_5 in range(1, 11):\n",
        "  if Tabuada_5 == 5:\n",
        "    break\n",
        "  print(Tabuada_5 * 5)"
      ]
    },
    {
      "cell_type": "markdown",
      "metadata": {
        "id": "R7Gszdd8trzL"
      },
      "source": [
        "### Continue\n",
        "\n",
        "O comando Continue é usado para que o comando seja efetuado independente de detalhes que podem aparecer dentro do laço.\n",
        "\n",
        "Quando a instrução continue é executada, ela interrompe a execução da iteração atual do loop e continua com a próxima iteração."
      ]
    },
    {
      "cell_type": "code",
      "execution_count": null,
      "metadata": {
        "id": "8VR3I3hDvbPc"
      },
      "outputs": [],
      "source": [
        "#Ignorando uma instrução dentro de um laço.\n",
        "for Tabuada_5 in range(1, 11):\n",
        "  if Tabuada_5 == 5:\n",
        "     continue\n",
        "     print(\"ignore\")\n",
        "  print(Tabuada_5 * 5)"
      ]
    },
    {
      "cell_type": "markdown",
      "metadata": {
        "id": "6_L-vhKdeQra"
      },
      "source": [
        "# Importando pacotes"
      ]
    },
    {
      "cell_type": "code",
      "execution_count": null,
      "metadata": {
        "id": "if2me1tRnfpI"
      },
      "outputs": [],
      "source": []
    },
    {
      "cell_type": "code",
      "execution_count": null,
      "metadata": {
        "colab": {
          "base_uri": "https://localhost:8080/"
        },
        "id": "qLK_vgm0SSpQ",
        "outputId": "af602552-ea48-4ae4-e3f7-0347ff9ea46c"
      },
      "outputs": [
        {
          "name": "stdout",
          "output_type": "stream",
          "text": [
            "2023-12-15\n",
            "13:56:51.586923\n",
            "2024-12-13\n",
            "13 12 2024\n"
          ]
        }
      ],
      "source": [
        "import datetime\n",
        "\n",
        "hoje = datetime.date.today()\n",
        "print(hoje)\n",
        "horário = datetime.datetime.today().time()\n",
        "print(horário)\n",
        "\n",
        "#criando a data de hoje\n",
        "data_de_hoje = datetime.date(2024,12,13)\n",
        "print(data_de_hoje)\n",
        "\n",
        "dia = data_de_hoje.day\n",
        "mes = data_de_hoje.month\n",
        "ano = data_de_hoje.year\n",
        "\n",
        "print(dia, mes, ano)"
      ]
    },
    {
      "cell_type": "code",
      "execution_count": null,
      "metadata": {
        "colab": {
          "base_uri": "https://localhost:8080/"
        },
        "id": "_UUGMZYrYPOy",
        "outputId": "d120f2a1-416d-4633-dc31-3091bfb6666d"
      },
      "outputs": [
        {
          "name": "stdout",
          "output_type": "stream",
          "text": [
            "364 days, 0:00:00\n",
            "13 do 12 de 24\n"
          ]
        }
      ],
      "source": [
        "#trabalhando com intervalos de tempo\n",
        "Delta_T = data_de_hoje - hoje\n",
        "print(Delta_T)\n",
        "\n",
        "#Formato da data\n",
        "dt = data_de_hoje.strftime('%d do %m de %y')\n",
        "print(dt)"
      ]
    },
    {
      "cell_type": "code",
      "execution_count": null,
      "metadata": {
        "colab": {
          "base_uri": "https://localhost:8080/"
        },
        "id": "thtM-We6wtcj",
        "outputId": "dd9d97b6-2683-4aee-cac4-b1b9969813a3"
      },
      "outputs": [
        {
          "name": "stdout",
          "output_type": "stream",
          "text": [
            "Somando 30 dias, 2025-01-12\n",
            "Diminuindo 30 dias, 2024-11-13\n"
          ]
        }
      ],
      "source": [
        "#somando intervalos de tempo (deltaT)\n",
        "print( f'Somando 30 dias, {data_de_hoje + datetime.timedelta(days = 30)}' )\n",
        "print( f'Diminuindo 30 dias, {data_de_hoje - datetime.timedelta(days = 30)}' )"
      ]
    },
    {
      "cell_type": "markdown",
      "metadata": {
        "id": "anWjJfyx3co8"
      },
      "source": [
        "### Import Time\n",
        "\n",
        "Pacote responsável pela criação e manipulação de data e hora."
      ]
    },
    {
      "cell_type": "code",
      "execution_count": null,
      "metadata": {
        "colab": {
          "base_uri": "https://localhost:8080/"
        },
        "id": "nJWvfbelzvvx",
        "outputId": "27c3cf06-a1ed-422f-889d-86b5bfd19b83"
      },
      "outputs": [
        {
          "name": "stdout",
          "output_type": "stream",
          "text": [
            "Diga o seu nome: Matheus\n",
            "Você é um campeão, Matheus\n"
          ]
        }
      ],
      "source": [
        "import time\n",
        "\n",
        "greeting = input('Diga o seu nome: ')\n",
        "\n",
        "time.sleep(5)\n",
        "print('Você é um campeão, ' + greeting)"
      ]
    },
    {
      "cell_type": "code",
      "execution_count": null,
      "metadata": {
        "colab": {
          "base_uri": "https://localhost:8080/"
        },
        "id": "52KkT9h54TD9",
        "outputId": "d4dc44b6-01b3-4aef-9a8c-8a247017d65e"
      },
      "outputs": [
        {
          "name": "stdout",
          "output_type": "stream",
          "text": [
            "time.struct_time(tm_year=2023, tm_mon=12, tm_mday=15, tm_hour=14, tm_min=33, tm_sec=48, tm_wday=4, tm_yday=349, tm_isdst=0)\n",
            "<class 'time.struct_time'>\n",
            "12/15/2023, 14:33:48\n"
          ]
        }
      ],
      "source": [
        "'Hora_atual'\n",
        "Hora_ago = time.localtime()\n",
        "print(Hora_ago)\n",
        "\n",
        "'Tipo de dado.'\n",
        "print(type(Hora_ago))\n",
        "\n",
        "'Formatando hora.'\n",
        "print( time.strftime('%m/%d/%Y, %H:%M:%S', Hora_ago ))"
      ]
    },
    {
      "cell_type": "markdown",
      "metadata": {
        "id": "igH20H8qi1Bl"
      },
      "source": [
        "### Import math\n",
        "\n",
        "Algumas funções são mais práticas na hora de fazer cálculos matemáticos se usarmos o pacote de importação.\n",
        "Ex:\n",
        "abs"
      ]
    },
    {
      "cell_type": "code",
      "execution_count": null,
      "metadata": {
        "colab": {
          "base_uri": "https://localhost:8080/"
        },
        "id": "Z2lGBt1rv4uu",
        "outputId": "62c398ac-5198-470f-e6b6-5c434c764aae"
      },
      "outputs": [
        {
          "name": "stdout",
          "output_type": "stream",
          "text": [
            "512\n",
            "6.0\n",
            "2.0\n",
            "7.0\n",
            "0.5\n",
            "7.38905609893065\n"
          ]
        }
      ],
      "source": [
        "import math\n",
        "#valor absoluto ou módulo\n",
        "asd = -512\n",
        "print(abs(asd))\n",
        "\n",
        "#Função Exponencial\n",
        "print(math.exp(2))\n",
        "\n",
        "\n",
        "#função logaritmo\n",
        "#parâmetros logaritmando e base\n",
        "\n",
        "print(math.log(64, 2))\n",
        "print(math.log10(100))\n",
        "print(math.log(math.exp(7), math.e))\n",
        "\n",
        "\n",
        "#Funções trigonométricas\n",
        "f = math.sin(math.pi/6)\n",
        "print(round(math.sin(math.pi/6), 2))\n",
        "\n",
        "#Distância entre pontos\n",
        "math.dist((5, 15), (1, 2))\n",
        "\n"
      ]
    },
    {
      "cell_type": "markdown",
      "metadata": {
        "id": "gvV0StTZtBpH"
      },
      "source": [
        "### Import Random\n"
      ]
    },
    {
      "cell_type": "code",
      "execution_count": null,
      "metadata": {
        "colab": {
          "base_uri": "https://localhost:8080/"
        },
        "id": "vnRWPx7ytAgv",
        "outputId": "af72cbbe-aeda-4736-9b49-21620b6d6cc3"
      },
      "outputs": [
        {
          "name": "stdout",
          "output_type": "stream",
          "text": [
            "6\n",
            "a\n",
            "0.578\n",
            "350\n"
          ]
        }
      ],
      "source": [
        "import random\n",
        "\n",
        "lista_aleatoria = [0, 1, 2, 3, 4, 5, 6, 7, 8, 9]\n",
        "print(random.choice(lista_aleatoria)) #Escolhe um elemento aleotório da lista\n",
        "\n",
        "palavra = 'palavra'\n",
        "print(random.choice(palavra))#Escolhe aleatoriamente uma letra da string\n",
        "\n",
        "print(round(random.random(), 3))#Escolhe um valor aleatório entre zero e 1\n",
        "\n",
        "inteiro_aleatorio = random.randint(0,512) #Escolhe um valor inteiro dentro desse intervalo\n",
        "print(inteiro_aleatorio)"
      ]
    },
    {
      "cell_type": "markdown",
      "metadata": {
        "id": "oZ5TYpk_zBjs"
      },
      "source": [
        "### Import Statistics"
      ]
    },
    {
      "cell_type": "code",
      "execution_count": null,
      "metadata": {
        "colab": {
          "base_uri": "https://localhost:8080/"
        },
        "id": "6oCRRW6NjYz0",
        "outputId": "1215c676-2f56-4c20-ce04-70af4273faee"
      },
      "outputs": [
        {
          "name": "stdout",
          "output_type": "stream",
          "text": [
            "49.154\n"
          ]
        },
        {
          "data": {
            "text/plain": [
              "34"
            ]
          },
          "execution_count": 25,
          "metadata": {},
          "output_type": "execute_result"
        }
      ],
      "source": [
        "import statistics\n",
        "\n",
        "lista_modelo = [45, 56, 42, 78, 16, 38, 79, 42, 56, 78, 19, 45, 45]\n",
        "\n",
        "lista_s = [0,1, 1, 2, 3, 5, 8, 13, 21, 34, 55, 89, 144, 233, 377, 610, 987, 1597, 2584]\n",
        "\n",
        "print(round(statistics.mean(lista_modelo), 3)) #imprime a média\n",
        "\n",
        "statistics.median(lista_s) #imprime ordena e imprime a mediana (valor central)\n",
        "\n",
        "print(statistics.mode(lista_modelo)) #imprime a moda (valor que mais se repete)\n",
        "\n",
        "\n",
        "\n"
      ]
    },
    {
      "cell_type": "markdown",
      "metadata": {
        "id": "kAwgHlZEERyB"
      },
      "source": [
        "# Funções\n",
        "\n",
        "Função é um bloco de código que é executado quando é feita uma chamada.\n",
        "Uma função pode receber parâmetros ou não."
      ]
    },
    {
      "cell_type": "code",
      "execution_count": null,
      "metadata": {
        "id": "Ow2D-rfUziik"
      },
      "outputs": [],
      "source": [
        "#Criando uma função\n",
        "def greeting():\n",
        "  print('Bon Giorno')"
      ]
    },
    {
      "cell_type": "code",
      "execution_count": null,
      "metadata": {
        "colab": {
          "base_uri": "https://localhost:8080/"
        },
        "id": "b575e9j8Fa6T",
        "outputId": "b6439173-f726-46e7-8458-2ff9ab46fb75"
      },
      "outputs": [
        {
          "name": "stdout",
          "output_type": "stream",
          "text": [
            "Bon Giorno\n"
          ]
        }
      ],
      "source": [
        "greeting()"
      ]
    },
    {
      "cell_type": "code",
      "execution_count": null,
      "metadata": {
        "id": "VgqJp0BSFlqu"
      },
      "outputs": [],
      "source": [
        "#Função com parâmetros\n",
        "def produto_aleatorio(x, y):\n",
        "  return x*y"
      ]
    },
    {
      "cell_type": "code",
      "execution_count": null,
      "metadata": {
        "colab": {
          "base_uri": "https://localhost:8080/"
        },
        "id": "_Csd44swFdh9",
        "outputId": "c3779c00-d2b9-44f4-ca88-68cb388d9187"
      },
      "outputs": [
        {
          "name": "stdout",
          "output_type": "stream",
          "text": [
            "0.04326785724005318\n",
            "0.5562849775264112\n",
            "0.39151362544832147\n",
            "0.4116999291516745\n",
            "0.11439536846987766\n"
          ]
        }
      ],
      "source": [
        "import random\n",
        "for i in range(0, 5):\n",
        "  a = random.random()\n",
        "  b = random.random()\n",
        "  print(produto_aleatorio(a, b))"
      ]
    },
    {
      "cell_type": "markdown",
      "metadata": {
        "id": "ZPWUJHG5H9Cb"
      },
      "source": [
        "##Exercícios\n",
        "\n",
        "Faça uma função que retorne o discriminante da função quadrática."
      ]
    },
    {
      "cell_type": "code",
      "execution_count": null,
      "metadata": {
        "id": "21AqokR7HGdr"
      },
      "outputs": [],
      "source": [
        "def discriminante(a, b, c):\n",
        "  delta = b**2 - 4*a*c\n",
        "  return delta"
      ]
    },
    {
      "cell_type": "code",
      "execution_count": null,
      "metadata": {
        "colab": {
          "base_uri": "https://localhost:8080/"
        },
        "id": "rx5ZkcKYJAem",
        "outputId": "ab48a0d0-f7a4-4607-8bb7-98bb71faefa8"
      },
      "outputs": [
        {
          "name": "stdout",
          "output_type": "stream",
          "text": [
            "-4\n"
          ]
        }
      ],
      "source": [
        "print(discriminante(1, 2, 2))"
      ]
    },
    {
      "cell_type": "markdown",
      "metadata": {
        "id": "4nqzj8MhJc4R"
      },
      "source": [
        "##Exercícios\n",
        "\n",
        "Faça uma função que retorne vértice da parábola"
      ]
    },
    {
      "cell_type": "code",
      "execution_count": null,
      "metadata": {
        "id": "OULRZqgvJQFr"
      },
      "outputs": [],
      "source": [
        "\n",
        "def vertice_parabola(a, b, c):\n",
        "\n",
        "  x = -b/2*a\n",
        "  y = -discriminante(a, b, c)/4*a\n",
        "  return x, y"
      ]
    },
    {
      "cell_type": "code",
      "execution_count": null,
      "metadata": {
        "colab": {
          "base_uri": "https://localhost:8080/"
        },
        "id": "5eCnqwSKJsxx",
        "outputId": "6da60cc1-86aa-43c5-9c7e-feb10c9bb467"
      },
      "outputs": [
        {
          "name": "stdout",
          "output_type": "stream",
          "text": [
            "o vertice da parabola tem coordenadas: (-1.0, 2.0)\n"
          ]
        }
      ],
      "source": [
        "print('o vertice da parabola tem coordenadas: ' + str(vertice_parabola(1, 2, 3)))\n"
      ]
    },
    {
      "cell_type": "markdown",
      "metadata": {
        "id": "Oc5LPesjOxEM"
      },
      "source": [
        "##Exercícios\n",
        "\n",
        "Faça uma função que calcule os \"zeros\" de uma função quadrática"
      ]
    },
    {
      "cell_type": "code",
      "execution_count": null,
      "metadata": {
        "id": "7l_sbfBPKdDv"
      },
      "outputs": [],
      "source": [
        "import math\n",
        "def funcao_quadratica(a, b, c):\n",
        "  if discriminante(a, b, c) < 0:\n",
        "    print('não possui raíz real')\n",
        "  elif discriminante(a, b, c) == 0:\n",
        "    print('x = y ')\n",
        "    x = -b/2*a\n",
        "    print(\" x = \" + str(x))\n",
        "  else:\n",
        "    x_1 = (-b + math.sqrt(discriminante(a, b, c)))/2*a\n",
        "    x_2 = (-b - math.sqrt(discriminante(a, b, c)))/2*a\n",
        "    return x_1, x_2\n"
      ]
    },
    {
      "cell_type": "code",
      "execution_count": null,
      "metadata": {
        "colab": {
          "base_uri": "https://localhost:8080/"
        },
        "id": "aX33a58TQygd",
        "outputId": "c71d7153-2cb8-4fda-af71-8460f2e333e7"
      },
      "outputs": [
        {
          "name": "stdout",
          "output_type": "stream",
          "text": [
            "x = y \n",
            " x = -2.0\n"
          ]
        }
      ],
      "source": [
        "funcao_quadratica(1, 4, 4)"
      ]
    },
    {
      "cell_type": "markdown",
      "metadata": {
        "id": "JLyu4Exk30tm"
      },
      "source": [
        "## Função Lambda\n",
        "\n",
        "A função Lambda é uma função anônima, isto é, não precisa de definição nem retorno. Usamos palavra-chave lambda, seguida de uma lista de argumentos, um operador de atribuição e um corpo de função (uma instrução)."
      ]
    },
    {
      "cell_type": "code",
      "execution_count": null,
      "metadata": {
        "id": "Y41CtHgDQ7rI"
      },
      "outputs": [],
      "source": [
        "import math\n",
        "funcao_simples = lambda valor: math.sqrt(valor)\n",
        "##Função de maior complexidade utilizando sentenças lógicas.\n",
        "Tabuada = lambda num: [ Tabu * num for Tabu in range(1, 11)]\n"
      ]
    },
    {
      "cell_type": "code",
      "execution_count": null,
      "metadata": {
        "id": "BL0Kfe5e46oz"
      },
      "outputs": [],
      "source": []
    },
    {
      "cell_type": "markdown",
      "metadata": {
        "id": "Ab0Y9FrNETfM"
      },
      "source": [
        "# Tratamento de erros e estrutura TRY,EXCEPT, ELSE, FINALLY\n",
        "\n",
        "O try serve para submeter e executar o código a ser estudado.\n",
        "\n",
        "O except serve para classificar e tratar os erros de exceções.\n",
        "\n",
        "O else executa o código caso não haja erros.\n",
        "\n",
        "O finally executa um comando independente de erros ou acertos."
      ]
    },
    {
      "cell_type": "code",
      "execution_count": null,
      "metadata": {
        "colab": {
          "base_uri": "https://localhost:8080/"
        },
        "id": "JqrtsgSI5NWn",
        "outputId": "f0f9cd8a-2308-4304-f71d-ef36d74a06d8"
      },
      "outputs": [
        {
          "name": "stdout",
          "output_type": "stream",
          "text": [
            "Cálculo impossível!\n",
            "Tente outra vez!\n"
          ]
        }
      ],
      "source": [
        "try:\n",
        "  0/0\n",
        "except:\n",
        "  print('Cálculo impossível!')\n",
        "finally:\n",
        "  print('Tente outra vez!')"
      ]
    },
    {
      "cell_type": "markdown",
      "metadata": {
        "id": "xGQe3bLLvBBt"
      },
      "source": [
        "## Exercícios\n",
        "\n",
        "Crie uma função que leia um número e retorne se ele é inteiro ou não.\n"
      ]
    },
    {
      "cell_type": "code",
      "execution_count": null,
      "metadata": {
        "id": "2q-Xnu_Fyyog"
      },
      "outputs": [],
      "source": [
        "def funcaoTeste():\n",
        "  a = float(input('Digite o número: '))\n",
        "  print(a)\n",
        "\n"
      ]
    },
    {
      "cell_type": "code",
      "execution_count": null,
      "metadata": {
        "colab": {
          "background_save": true,
          "base_uri": "https://localhost:8080/"
        },
        "id": "HXzX-A5cu8oK",
        "outputId": "36703a2a-fbe5-48d2-8c46-896a58fb8965"
      },
      "outputs": [
        {
          "name": "stdout",
          "output_type": "stream",
          "text": [
            "54.4\n",
            "54.3\n",
            "87.8\n",
            "55.0\n"
          ]
        }
      ],
      "source": [
        "try:\n",
        "  funcaoTeste()\n",
        "except:\n",
        "  print('Esse não é um inteiro!')\n",
        "while funcaoTeste() is not int:\n",
        "    funcaoTeste()\n",
        "\n",
        "else:\n",
        "  print('Parabéns! Esse é um número inteiro')\n",
        "#finally:\n",
        " # print('Missão concluída!')\n"
      ]
    },
    {
      "cell_type": "code",
      "execution_count": null,
      "metadata": {
        "id": "l_eD8Fktt9td"
      },
      "outputs": [],
      "source": [
        "def leiaint():\n",
        "  inteiro = int(input('Digite o número'))\n",
        "  try:\n",
        "    if type(inteiro) == int:\n",
        "      print('Esse número de fato é um Inteiro.')\n",
        "  except:\n",
        "    print('Não é inteiro')\n",
        "    inteiro = input('Digite o número')\n",
        "  finally:\n",
        "    print('Parabéns!')\n",
        "\n"
      ]
    },
    {
      "cell_type": "code",
      "execution_count": null,
      "metadata": {
        "id": "8NUcZIfa1J8o"
      },
      "outputs": [],
      "source": []
    },
    {
      "cell_type": "code",
      "execution_count": null,
      "metadata": {
        "colab": {
          "base_uri": "https://localhost:8080/"
        },
        "id": "FISkH9IU1Hb9",
        "outputId": "4f5cd1b5-6c51-4813-f489-65b6ecf1d795"
      },
      "outputs": [
        {
          "name": "stdout",
          "output_type": "stream",
          "text": [
            "digite seu número: 54.4\n",
            "1.0074074074074073\n"
          ]
        }
      ],
      "source": [
        "hg = input(\"digite seu número: \")\n",
        "try:\n",
        "  int(hg)\n",
        "except (TypeError):\n",
        "  print('Erro de escrita')\n",
        "except:\n"
      ]
    },
    {
      "cell_type": "code",
      "execution_count": null,
      "metadata": {
        "id": "CtyowyhS6rGl"
      },
      "outputs": [],
      "source": [
        "\n"
      ]
    },
    {
      "cell_type": "markdown",
      "source": [
        "# <font color = lightblue> Orientação a Objetos (Classes e Objetos)\n",
        "\n",
        "A linguagem Python é considerada uma linguagem multiparadigma, isto é, possibilita diferentes tipos de método de programação são elas: processual, funcional, imperativa e orientação a objetos.\n",
        "A orientação a obejtos ou OOP de longe é o paradigma mais recorrente em Python, pois possibilita a interação entre objetos de forma mais eficaz. A OOP é sustentada em quatro pilares:\n",
        "\n",
        "I - Abstração:Na programação orientada a objetos, a construção dos objetos é baseada em uma Classeque representa as características desse objeto.\n",
        "\n",
        "\n",
        "II - Encapsulamento: O princípio de encapsulamento consiste em \"esconder\" a parte funcional dos objetos de forma que quem utiliza não tenha que conhecer mais do que o necessário para utilizá-lo.\n",
        "\n",
        "\n",
        "III - A herança: Consiste em determinar que uma classe existe por si mesma, porém, ela é uma outra classe em sua essência.\n",
        "\n",
        "IV - Polimorfismo: O conceito do polimorfismo é permitir que comportamentos comuns a $n$ tipos de classes possam ser definidos de forma específica para cada classe."
      ],
      "metadata": {
        "id": "CgAh9qJAorAt"
      }
    },
    {
      "cell_type": "code",
      "source": [
        "  class Pessoa:\n",
        "  # Método construtor\n",
        "    def __init__ (self, Nome, Idade):\n",
        "      self.nome = Nome\n",
        "      self.idade = int(Idade)\n",
        "\n",
        "    def Ano_Bissexto(self):\n",
        "      print('Oi', self.nome, 'Você nasceu em um ano bissexto! Parabéns!')\n",
        "    def Ano_nbissexto(self):\n",
        "      print('Oi', self.nome, 'Você nasceu em um ano comum.')\n",
        "\n",
        "  # Função\n",
        "\n",
        "    def Calculo_Idade(self):\n",
        "      if self.idade % 4 == 0:\n",
        "        print('Se você tem ', self.idade)\n",
        "        return self.Ano_Bissexto()\n",
        "      else:\n",
        "        return self.Ano_nbissexto()"
      ],
      "metadata": {
        "id": "-kmCyfuisedU"
      },
      "execution_count": null,
      "outputs": []
    },
    {
      "cell_type": "code",
      "source": [
        "vari_1 = Pessoa(\"Matheus\", 1996)\n",
        "print(vari_1.Calculo_Idade())"
      ],
      "metadata": {
        "colab": {
          "base_uri": "https://localhost:8080/"
        },
        "id": "Ja5VQZjLxPpz",
        "outputId": "22ec420d-e50f-4e57-b44e-6e6ff6af8b9a"
      },
      "execution_count": null,
      "outputs": [
        {
          "output_type": "stream",
          "name": "stdout",
          "text": [
            "Se você tem  1996\n",
            "Oi Matheus Você nasceu em um ano bissexto! Parabéns!\n",
            "None\n"
          ]
        }
      ]
    },
    {
      "cell_type": "markdown",
      "source": [
        "# <font color = orange> Arrays e nd-arrays\n",
        "\n",
        "Arrays simples e multidimencionais são extremamente úteis quando estamos lidando com um único tipo de dado, especialmente se forem do tipo int ou float. A diferença entre arrays simples e N-dimensional arrays (arrays multidimensionais) em Python está principalmente na estrutura e na forma como os dados são organizados e acessados. Vamos explorar isso com mais detalhes adiante neste tópico.\n",
        "\n",
        "10.1.Arrays\n",
        "Em Python, a estrutura de dados mais próxima do conceito de \"array\" em outras linguagens de programação são as listas. No entanto, Python também possui arrays, mas eles são menos comuns e têm algumas diferenças em comparação com listas.\n",
        "\n",
        "Listas: As listas em Python como já visto antes são coleções ordenadas e mutáveis de elementos. Elas podem armazenar diferentes tipos de dados (números, strings, objetos, etc.).\n",
        "\n",
        "Arrays: Arrays em Python são oferecidos pelo módulo array, que fornece uma estrutura de dados mais eficiente em termos de memória para armazenar grandes coleções de dados homogêneos (todos do mesmo tipo).\n",
        "\n",
        "Devemos importar a bibliotéca array (import > array) ou numpy (import > numpy) para criar os arrays.\n",
        "import array\n"
      ],
      "metadata": {
        "id": "4yQC9-e5e9by"
      }
    },
    {
      "cell_type": "code",
      "source": [
        "#Criando um array de inteiros\n",
        "import array\n",
        "import numpy as np\n",
        "\n",
        "meu_array = np.array([1, 2, 3, 4, 5])\n",
        "print(meu_array)\n",
        "#Acessando Arrays\n",
        "#Podemos acessar elementos individuais de um array usando índices. Os índices começam em  0 .\n",
        "#Acessando o primeiro elemento\n",
        "print(meu_array[0])\n",
        "\n",
        "#Acessando o terceiro elemento\n",
        "print(meu_array[2])\n",
        "\n",
        "#Acessando o último elemento\n",
        "print(meu_array[-1])"
      ],
      "metadata": {
        "id": "VhlEfoepyZYM",
        "colab": {
          "base_uri": "https://localhost:8080/"
        },
        "outputId": "9ccd5497-568e-4162-f909-ce992658f0ab"
      },
      "execution_count": null,
      "outputs": [
        {
          "output_type": "stream",
          "name": "stdout",
          "text": [
            "[1 2 3 4 5]\n",
            "1\n",
            "3\n",
            "5\n"
          ]
        }
      ]
    },
    {
      "cell_type": "markdown",
      "source": [
        "# <font color = yellow> Códigos de Tipo em Arrays\n",
        "Códigos de tipo são caracteres que especificam o tipo de elementos que um array do módulo array em Python pode armazenar. Eles garantem que todos os elementos do array sejam do mesmo tipo, o que é importante para a eficiência de memória e desempenho. Podemos listar três diretrizes.\n",
        "\n",
        "I - Eficiência de Memória: Arrays utilizam uma quantidade fixa de memória por elemento, baseada no tipo de dado. Isso é mais eficiente do que listas, que podem armazenar elementos de diferentes tipos e têm mais overhead.\n",
        "\n",
        "II - Desempenho: Operações em arrays são geralmente mais rápidas que em listas, pois o tipo de dado é conhecido e fixo.\n",
        "\n",
        "III - Interoperabilidade: Facilita a integração com outras linguagens (como  𝐶 ) que esperam dados em formatos específicos.\n",
        "Código de tipo\n",
        "\n",
        "Escolher o código de tipo depende do tipo de dados que você precisa armazenar no array. São eles:\n",
        "\n",
        "Inteiros Pequenos: Use 'b' para inteiros com sinal de  1  byte, ou 'B' para inteiros sem sinal de  1  byte.\n",
        "\n",
        "Inteiros Médios: Use 'h' ou 'H' para inteiros de  2  bytes.\n",
        "\n",
        "Inteiros Grandes: Use 'i', 'I', 'l', 'L', 'q', ou 'Q' dependendo do tamanho e se são com ou sem sinal.\n",
        "\n",
        "Números de Ponto Flutuante: Use 'f' para floats (precisão simples) e 'd' para doubles (precisão dupla)."
      ],
      "metadata": {
        "id": "nBVKr5M-frPe"
      }
    },
    {
      "cell_type": "code",
      "source": [
        "#Criando um array de inteiros com o código de tipo 'i'\n",
        "import array\n",
        "\n",
        "meu_array = array.array('i', [1, 2, 3, 4, 5])\n",
        "\n",
        "#Acessando elementos\n",
        "print(meu_array[0])\n",
        "\n",
        "#Criando um array de flutuantes com o código de tipo 'd'\n",
        "meu_array = array.array('d', [1.1, 2.2, 3.3, 4.4, 5.5])\n",
        "\n",
        "#Acessando elementos\n",
        "print(meu_array[0])"
      ],
      "metadata": {
        "colab": {
          "base_uri": "https://localhost:8080/"
        },
        "id": "uuRds055gE2Y",
        "outputId": "891dbf48-2509-4968-86d5-1a814b9d1d38"
      },
      "execution_count": null,
      "outputs": [
        {
          "output_type": "stream",
          "name": "stdout",
          "text": [
            "1\n",
            "1.1\n"
          ]
        }
      ]
    },
    {
      "cell_type": "markdown",
      "source": [
        "<font color = lightblue>N-dimensional Arrays\n",
        "\n",
        "ndarray (abreviação de N-dimensional array) é o principal objeto da biblioteca numpy. Ele representa um array multidimensional de elementos de um único tipo de dados. É altamente eficiente para operações matemáticas e científicas devido à sua implementação otimizada e à capacidade de operar sobre grandes volumes de dados de forma rápida e eficaz. Podemos listar três carcaterísticas importantes.\n",
        "\n",
        "I - Multidimensionalidade: Pode ser um array de qualquer dimensão, desde 1D (vetor) até nD (tensores).\n",
        "\n",
        "II - Homogeneidade: Todos os elementos do ndarray são do mesmo tipo de dados.\n",
        "\n",
        "III - Operações Vetorizadas: Suporta operações aritméticas e funções matemáticas aplicadas a todos os elementos de forma vetorizada, o que melhora significativamente o desempenho."
      ],
      "metadata": {
        "id": "2u7K0tlBigOb"
      }
    },
    {
      "cell_type": "markdown",
      "source": [
        "## <font color = yellow> Criação de ndarrays\n",
        "Podemos criar um ndarray a partir de listas ou outras estruturas de dados usando a função np.array().\n",
        "import numpy as np"
      ],
      "metadata": {
        "id": "7eWxla7ymSfv"
      }
    },
    {
      "cell_type": "code",
      "source": [
        "#Criando um array 1D\n",
        "import numpy as np\n",
        "\n",
        "array_1d = np.array([1, 2, 3, 4, 5])\n",
        "#print(array_1d)\n",
        "\n",
        "#Criando um array 2D\n",
        "array_2d = np.array([[1, 2, 3], [4, 5, 6]])\n",
        "#print(array_2d)\n",
        "\n",
        "#Criando um array 3D\n",
        "array_3d = np.array([[[1, 2], [3, 4], [5, 6], [7, 8]]])\n",
        "print(array_3d)"
      ],
      "metadata": {
        "id": "WMdguTk1hqPJ",
        "colab": {
          "base_uri": "https://localhost:8080/"
        },
        "outputId": "7fd40327-9554-4399-caf8-3d0935ff8d1e"
      },
      "execution_count": null,
      "outputs": [
        {
          "output_type": "stream",
          "name": "stdout",
          "text": [
            "[[[1 2]\n",
            "  [3 4]\n",
            "  [5 6]\n",
            "  [7 8]]]\n"
          ]
        }
      ]
    },
    {
      "cell_type": "markdown",
      "source": [
        "### Outras formas de criar arrays\n",
        "\n",
        "Criando arrays com zeros."
      ],
      "metadata": {
        "id": "ShNAjuCGsY89"
      }
    },
    {
      "cell_type": "code",
      "source": [
        "#1D\n",
        "azeros = np.zeros(5)\n",
        "azeros"
      ],
      "metadata": {
        "id": "97xucqCjsbnf"
      },
      "execution_count": null,
      "outputs": []
    },
    {
      "cell_type": "code",
      "source": [
        "#2D\n",
        "bzeros = np.zeros((3, 4)) #3 linhas e 4 colunas\n",
        "bzeros"
      ],
      "metadata": {
        "id": "8n3wVPfbtURd"
      },
      "execution_count": null,
      "outputs": []
    },
    {
      "cell_type": "code",
      "source": [
        "#3D\n",
        "czeros = np.zeros((3, 4, 2))# 3 páginas, 4 linhas e 2 colunas\n",
        "czeros"
      ],
      "metadata": {
        "id": "cTXeW-motd3D"
      },
      "execution_count": null,
      "outputs": []
    },
    {
      "cell_type": "markdown",
      "source": [
        "### Criando arrays com uns."
      ],
      "metadata": {
        "id": "Y24zlKTKtioH"
      }
    },
    {
      "cell_type": "code",
      "source": [
        "#1D\n",
        "aones = np.ones(5)\n",
        "aones"
      ],
      "metadata": {
        "id": "bVzerWKtthlH"
      },
      "execution_count": null,
      "outputs": []
    },
    {
      "cell_type": "code",
      "source": [
        "#2D\n",
        "bones = np.ones((3,4))\n",
        "bones"
      ],
      "metadata": {
        "id": "unsifRP_toGT"
      },
      "execution_count": null,
      "outputs": []
    },
    {
      "cell_type": "code",
      "source": [
        "#3D\n",
        "cones = np.ones((3,4,2))\n",
        "cones"
      ],
      "metadata": {
        "id": "ygKYe2_StqkK",
        "colab": {
          "base_uri": "https://localhost:8080/"
        },
        "outputId": "85ea61f1-8ceb-4b27-be5f-26c121b81a82"
      },
      "execution_count": null,
      "outputs": [
        {
          "output_type": "execute_result",
          "data": {
            "text/plain": [
              "array([[[1., 1.],\n",
              "        [1., 1.],\n",
              "        [1., 1.],\n",
              "        [1., 1.]],\n",
              "\n",
              "       [[1., 1.],\n",
              "        [1., 1.],\n",
              "        [1., 1.],\n",
              "        [1., 1.]],\n",
              "\n",
              "       [[1., 1.],\n",
              "        [1., 1.],\n",
              "        [1., 1.],\n",
              "        [1., 1.]]])"
            ]
          },
          "metadata": {},
          "execution_count": 4
        }
      ]
    },
    {
      "cell_type": "markdown",
      "source": [
        "### Criando ND-arrays Com valores aleatórios"
      ],
      "metadata": {
        "id": "BYxJpgIAbHAc"
      }
    },
    {
      "cell_type": "code",
      "source": [
        "#criando um nd-array de 3 dimensões randomizado com 3 páginas, 4 linhas e 3 colunas\n",
        "asd = np.random.randint(0, 101, (3,4,3))\n",
        "asd\n"
      ],
      "metadata": {
        "colab": {
          "base_uri": "https://localhost:8080/"
        },
        "id": "T3PSw2RQaIpp",
        "outputId": "6ea64c33-ca6a-459a-9070-16af90a80745"
      },
      "execution_count": null,
      "outputs": [
        {
          "output_type": "execute_result",
          "data": {
            "text/plain": [
              "array([[[86, 33, 86],\n",
              "        [14, 29, 15],\n",
              "        [21, 75, 49],\n",
              "        [91, 59, 64]],\n",
              "\n",
              "       [[40, 24, 72],\n",
              "        [22, 39,  8],\n",
              "        [25, 24, 58],\n",
              "        [80, 97, 10]],\n",
              "\n",
              "       [[33, 46, 25],\n",
              "        [ 7, 30, 99],\n",
              "        [ 7, 91,  2],\n",
              "        [43, 56, 58]]])"
            ]
          },
          "metadata": {},
          "execution_count": 3
        }
      ]
    },
    {
      "cell_type": "markdown",
      "source": [
        "### Acessando nd-arrays"
      ],
      "metadata": {
        "id": "01J25Mfrc_8w"
      }
    },
    {
      "cell_type": "code",
      "source": [
        "#Resganando um elemento da segunda página, terceira linha, primeira coluna.\n",
        "asd[1][2][0]"
      ],
      "metadata": {
        "colab": {
          "base_uri": "https://localhost:8080/"
        },
        "id": "kSFAVwg4acGI",
        "outputId": "31c988a0-2ea7-46b3-b267-6822b180c855"
      },
      "execution_count": null,
      "outputs": [
        {
          "output_type": "execute_result",
          "data": {
            "text/plain": [
              "25"
            ]
          },
          "metadata": {},
          "execution_count": 7
        }
      ]
    },
    {
      "cell_type": "code",
      "source": [
        "#Acessando da segunda página da segunda linha em diante\n",
        "asd[1][1:]"
      ],
      "metadata": {
        "colab": {
          "base_uri": "https://localhost:8080/"
        },
        "id": "evLSRRgaeTTl",
        "outputId": "a5399ae2-789b-4510-d02d-b0967d14e77e"
      },
      "execution_count": null,
      "outputs": [
        {
          "output_type": "execute_result",
          "data": {
            "text/plain": [
              "array([[22, 39,  8],\n",
              "       [25, 24, 58],\n",
              "       [80, 97, 10]])"
            ]
          },
          "metadata": {},
          "execution_count": 8
        }
      ]
    },
    {
      "cell_type": "code",
      "source": [
        "#Acessando todos os elementos da terceira coluna em todas as linhas da terceira página\n",
        "#Lista enumerada de linhas.\n",
        "linhas_asd = [0,1,2,3]\n",
        "colunas_asd = [2,2,2,2]\n",
        "asd [2][linhas_asd, colunas_asd]"
      ],
      "metadata": {
        "colab": {
          "base_uri": "https://localhost:8080/"
        },
        "id": "8HA0CmcCfaTi",
        "outputId": "e5afe9c3-757e-4e28-dcc0-25698b51a690"
      },
      "execution_count": null,
      "outputs": [
        {
          "output_type": "execute_result",
          "data": {
            "text/plain": [
              "array([25, 99,  2, 58])"
            ]
          },
          "metadata": {},
          "execution_count": 9
        }
      ]
    },
    {
      "cell_type": "code",
      "source": [
        "asd[2][:, 2]"
      ],
      "metadata": {
        "colab": {
          "base_uri": "https://localhost:8080/"
        },
        "id": "8qgxpa22X6EB",
        "outputId": "c6c04b38-14cf-453b-afec-7be29151efb2"
      },
      "execution_count": null,
      "outputs": [
        {
          "output_type": "execute_result",
          "data": {
            "text/plain": [
              "array([25, 99,  2, 58])"
            ]
          },
          "metadata": {},
          "execution_count": 10
        }
      ]
    },
    {
      "cell_type": "code",
      "source": [
        "asd[2][:][2]\n"
      ],
      "metadata": {
        "colab": {
          "base_uri": "https://localhost:8080/"
        },
        "id": "cH-R2m4Xb4ov",
        "outputId": "6dd885fa-122e-499a-bb5d-f3362e356014"
      },
      "execution_count": null,
      "outputs": [
        {
          "output_type": "execute_result",
          "data": {
            "text/plain": [
              "array([ 7, 91,  2])"
            ]
          },
          "metadata": {},
          "execution_count": 6
        }
      ]
    },
    {
      "cell_type": "markdown",
      "source": [
        "### (Fatiamento/slicing)"
      ],
      "metadata": {
        "id": "evAkImHeetHf"
      }
    },
    {
      "cell_type": "code",
      "source": [
        "qwe = np.random.randint(0, 101, (2,8,10))\n"
      ],
      "metadata": {
        "id": "MDCo6oKtev02"
      },
      "execution_count": null,
      "outputs": []
    },
    {
      "cell_type": "code",
      "source": [
        "qwe"
      ],
      "metadata": {
        "colab": {
          "base_uri": "https://localhost:8080/"
        },
        "id": "bvXycI3agIcx",
        "outputId": "d5a7b472-99aa-47d5-ed67-c0ae3a308b6b"
      },
      "execution_count": null,
      "outputs": [
        {
          "output_type": "execute_result",
          "data": {
            "text/plain": [
              "array([[[  4,  28,  56,  38,  66,  78,  30,  88,  81,  10],\n",
              "        [ 62,  31,  45,  77,  67,  97,  50,  92,  95,  50],\n",
              "        [  6,  89,  41,  66,   3,  93,  90,  60,  47,   8],\n",
              "        [ 61,  59,   0,  76,  26,  84,  67,  71,   7,  24],\n",
              "        [ 76,  34,  86,  17,  22,  40,  24,  93,  88,  77],\n",
              "        [ 84,  17,  50,  64,  89,  82,   6,  69,  92,  78],\n",
              "        [ 33,  90,  99,  64,  55,  47,   7,  82,  49,  96],\n",
              "        [ 35,  79,  12,  17,  63,  82,  79,   4,  79,  42]],\n",
              "\n",
              "       [[ 40,  60,  95,  26,  12,  61,  33,  57,  41,   0],\n",
              "        [ 59,  82,  75,  47,  75,  19,   9,  95,  55,  64],\n",
              "        [ 81,  94,  74,  70,  72,  38,  74,  70,  74,  28],\n",
              "        [ 83,  97,  51,  62,  78,  70,  86,  32,  40,  78],\n",
              "        [ 87,  71,  92,   6,  61,  77,  85, 100,  28,  30],\n",
              "        [ 61,  67,  67,  13,  73, 100,  67,  49,  40,  58],\n",
              "        [ 36,  31,  28,  37,  88,  23,  52,  94,  55,  19],\n",
              "        [ 11,  20, 100,  45,  94,  51,  81,   9,  21,  78]]])"
            ]
          },
          "metadata": {},
          "execution_count": 18
        }
      ]
    },
    {
      "cell_type": "code",
      "source": [
        "qwe[1][2:8,::2]\n"
      ],
      "metadata": {
        "colab": {
          "base_uri": "https://localhost:8080/"
        },
        "id": "_dw96imUez8W",
        "outputId": "351ca389-c4d5-4cb3-ba62-14dafdda178e"
      },
      "execution_count": null,
      "outputs": [
        {
          "output_type": "execute_result",
          "data": {
            "text/plain": [
              "array([[ 81,  74,  72,  74,  74],\n",
              "       [ 83,  51,  78,  86,  40],\n",
              "       [ 87,  92,  61,  85,  28],\n",
              "       [ 61,  67,  73,  67,  40],\n",
              "       [ 36,  28,  88,  52,  55],\n",
              "       [ 11, 100,  94,  81,  21]])"
            ]
          },
          "metadata": {},
          "execution_count": 22
        }
      ]
    },
    {
      "cell_type": "markdown",
      "source": [
        "### Consultas em um array"
      ],
      "metadata": {
        "id": "fruZUvFjkARN"
      }
    },
    {
      "cell_type": "code",
      "source": [
        "qwe>10"
      ],
      "metadata": {
        "id": "QXxmHZaRkKLr"
      },
      "execution_count": null,
      "outputs": []
    },
    {
      "cell_type": "code",
      "source": [
        "qwe[qwe>20]"
      ],
      "metadata": {
        "colab": {
          "base_uri": "https://localhost:8080/"
        },
        "id": "oUaHj2Qciljm",
        "outputId": "f47d5ae8-a0e4-46d2-e071-208d07c48d47"
      },
      "execution_count": null,
      "outputs": [
        {
          "output_type": "execute_result",
          "data": {
            "text/plain": [
              "array([ 28,  56,  38,  66,  78,  30,  88,  81,  62,  31,  45,  77,  67,\n",
              "        97,  50,  92,  95,  50,  89,  41,  66,  93,  90,  60,  47,  61,\n",
              "        59,  76,  26,  84,  67,  71,  24,  76,  34,  86,  22,  40,  24,\n",
              "        93,  88,  77,  84,  50,  64,  89,  82,  69,  92,  78,  33,  90,\n",
              "        99,  64,  55,  47,  82,  49,  96,  35,  79,  63,  82,  79,  79,\n",
              "        42,  40,  60,  95,  26,  61,  33,  57,  41,  59,  82,  75,  47,\n",
              "        75,  95,  55,  64,  81,  94,  74,  70,  72,  38,  74,  70,  74,\n",
              "        28,  83,  97,  51,  62,  78,  70,  86,  32,  40,  78,  87,  71,\n",
              "        92,  61,  77,  85, 100,  28,  30,  61,  67,  67,  73, 100,  67,\n",
              "        49,  40,  58,  36,  31,  28,  37,  88,  23,  52,  94,  55, 100,\n",
              "        45,  94,  51,  81,  21,  78])"
            ]
          },
          "metadata": {},
          "execution_count": 26
        }
      ]
    },
    {
      "cell_type": "markdown",
      "source": [],
      "metadata": {
        "id": "zhrSEhaktP3x"
      }
    },
    {
      "cell_type": "code",
      "source": [
        "import numpy as np\n",
        "series = [[23,45,12,679], [14,48,69,38]]\n",
        "new_series = np.array(series)\n",
        "print(new_series.ndim)\n",
        "print(new_series.shape)"
      ],
      "metadata": {
        "colab": {
          "base_uri": "https://localhost:8080/"
        },
        "id": "Fzyuwe2Khh1P",
        "outputId": "4468d816-d0c7-42ac-e15c-0fa0dc040f99"
      },
      "execution_count": 1,
      "outputs": [
        {
          "output_type": "stream",
          "name": "stdout",
          "text": [
            "2\n",
            "(2, 4)\n"
          ]
        }
      ]
    },
    {
      "cell_type": "code",
      "source": [
        "a = np.zeros(10) + 4\n",
        "a"
      ],
      "metadata": {
        "colab": {
          "base_uri": "https://localhost:8080/"
        },
        "id": "5gciogR5jor4",
        "outputId": "3b3ed077-47f6-45fa-bed8-46f6a2b7f2c2"
      },
      "execution_count": 5,
      "outputs": [
        {
          "output_type": "execute_result",
          "data": {
            "text/plain": [
              "array([4., 4., 4., 4., 4., 4., 4., 4., 4., 4.])"
            ]
          },
          "metadata": {},
          "execution_count": 5
        }
      ]
    },
    {
      "cell_type": "code",
      "source": [
        "b = np.full(10, 4)\n",
        "b"
      ],
      "metadata": {
        "colab": {
          "base_uri": "https://localhost:8080/"
        },
        "id": "G8Jh9UQsjtR1",
        "outputId": "b46562c8-4fc8-4dee-91c9-2d4beaa83774"
      },
      "execution_count": 4,
      "outputs": [
        {
          "output_type": "execute_result",
          "data": {
            "text/plain": [
              "array([4, 4, 4, 4, 4, 4, 4, 4, 4, 4])"
            ]
          },
          "metadata": {},
          "execution_count": 4
        }
      ]
    },
    {
      "cell_type": "code",
      "source": [],
      "metadata": {
        "id": "nbVpr4gykDL4"
      },
      "execution_count": null,
      "outputs": []
    }
  ],
  "metadata": {
    "colab": {
      "provenance": [],
      "toc_visible": true,
      "authorship_tag": "ABX9TyNchlWfmGxNZG9vI2gKookT",
      "include_colab_link": true
    },
    "kernelspec": {
      "display_name": "Python 3",
      "name": "python3"
    },
    "language_info": {
      "name": "python"
    }
  },
  "nbformat": 4,
  "nbformat_minor": 0
}